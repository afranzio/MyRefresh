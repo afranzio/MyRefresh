{
 "cells": [
  {
   "cell_type": "code",
   "execution_count": 9,
   "metadata": {},
   "outputs": [
    {
     "name": "stdout",
     "output_type": "stream",
     "text": [
      "Shoots a film\n"
     ]
    }
   ],
   "source": [
    "class pyClassModule:\n",
    "    def __init__(self, name, occupation):\n",
    "        self.name = name\n",
    "        self.occupation = occupation\n",
    "    \n",
    "    def findWorker(self):\n",
    "        if self.occupation == \"actor\":\n",
    "            print(\"Shoots a film\")\n",
    "        elif self.occupation == \"player\":\n",
    "            print(\"Hockey\")\n",
    "        else:\n",
    "            print(\"Unknown\")\n",
    "        \n",
    "tom = pyClassModule(\"Tom\", \"actor\")\n",
    "tom.findWorker()"
   ]
  },
  {
   "cell_type": "code",
   "execution_count": 9,
   "metadata": {},
   "outputs": [
    {
     "name": "stdout",
     "output_type": "stream",
     "text": [
      "0\n",
      "0\n",
      "0\n",
      "0\n",
      "0\n"
     ]
    }
   ],
   "source": [
    "def maxProfit(prices):\n",
    "    profits = 0\n",
    "    for idx, each in enumerate(prices):\n",
    "        nextIdx = int(idx)+1\n",
    "        if nextIdx < len(prices):\n",
    "            if prices[nextIdx] > each:\n",
    "                profitChances = prices[nextIdx] - each\n",
    "                profits = profits + profitChances\n",
    "    return(profits)\n",
    "\n",
    "# maxProfit([7,1,5,3,6,4])\n",
    "# maxProfit([1,2,3,4,5])\n",
    "maxProfit([7,6,4,3,1])"
   ]
  },
  {
   "cell_type": "code",
   "execution_count": 34,
   "metadata": {},
   "outputs": [
    {
     "name": "stdout",
     "output_type": "stream",
     "text": [
      "[5, 6, 7, 1, 2, 3, 4]\n"
     ]
    }
   ],
   "source": [
    "def rotate(nums, k):\n",
    "    k %= len(nums)\n",
    "    nums[:] = nums[-k:] + nums[:-k]\n",
    "    print(nums)\n",
    "\n",
    "nums = [1,2,3,4,5,6,7]\n",
    "k = 10\n",
    "\n",
    "rotate(nums, k)"
   ]
  },
  {
   "cell_type": "code",
   "execution_count": 46,
   "metadata": {},
   "outputs": [
    {
     "data": {
      "text/plain": [
       "False"
      ]
     },
     "execution_count": 46,
     "metadata": {},
     "output_type": "execute_result"
    }
   ],
   "source": [
    "def containsDuplicate(nums):\n",
    "    return len(set(nums)) != len(nums)"
   ]
  },
  {
   "cell_type": "code",
   "execution_count": 50,
   "metadata": {},
   "outputs": [
    {
     "name": "stdout",
     "output_type": "stream",
     "text": [
      "None\n"
     ]
    }
   ],
   "source": [
    "def singleNumber(nums):\n",
    "    for each in nums:\n",
    "        if nums.count(each) == 1:\n",
    "            return each\n",
    "\n",
    "singleNumber(nums = [4,1,2,1,2])"
   ]
  },
  {
   "cell_type": "code",
   "execution_count": 79,
   "metadata": {},
   "outputs": [
    {
     "data": {
      "text/plain": [
       "[2, 2]"
      ]
     },
     "execution_count": 79,
     "metadata": {},
     "output_type": "execute_result"
    }
   ],
   "source": [
    "def intersect(nums1, nums2):\n",
    "    count = {}\n",
    "    for num in nums1:\n",
    "        count[num] = count.get(num, 0) + 1\n",
    "    \n",
    "    # Store common elements along with their counts in a list\n",
    "    result = []\n",
    "    for num in nums2:\n",
    "        if num in count and count[num] > 0:\n",
    "            result.append(num)\n",
    "            count[num] -= 1\n",
    "    \n",
    "    return result\n",
    "\n",
    "intersect([1,2,2,1], [2,2])"
   ]
  },
  {
   "cell_type": "code",
   "execution_count": 91,
   "metadata": {},
   "outputs": [
    {
     "data": {
      "text/plain": [
       "[1, 2, 4]"
      ]
     },
     "execution_count": 91,
     "metadata": {},
     "output_type": "execute_result"
    }
   ],
   "source": [
    "def plusOne(digits):\n",
    "    digitstr = [str(x) for x in digits] \n",
    "    joinedList = \"\".join(digitstr)\n",
    "    incremented = int(joinedList)+1\n",
    "    result = [int(x) for x in [*str(incremented)]] \n",
    "    return(result)\n",
    "\n",
    "plusOne([1,2,3])"
   ]
  },
  {
   "cell_type": "code",
   "execution_count": 8,
   "metadata": {},
   "outputs": [
    {
     "name": "stdout",
     "output_type": "stream",
     "text": [
      "2\n",
      "[1, 3, 12, 0, 0]\n"
     ]
    }
   ],
   "source": [
    "from typing import List\n",
    "def moveZeroes(nums: List[int]):\n",
    "    print(nums.count(0))\n",
    "    for i in range(nums.count(0)):\n",
    "        nums.remove(0)\n",
    "        nums.append(0)\n",
    "    print(nums)\n",
    "\n",
    "moveZeroes([0,1,0,3,12])"
   ]
  },
  {
   "cell_type": "code",
   "execution_count": 24,
   "metadata": {},
   "outputs": [
    {
     "name": "stdout",
     "output_type": "stream",
     "text": [
      "complement 3\n",
      "num_indices {3: 0, 2: 1}\n",
      "0 2\n"
     ]
    }
   ],
   "source": [
    "def two_sum(nums, target):\n",
    "    num_indices = {}\n",
    "    for i, num in enumerate(nums):\n",
    "        complement = target - num\n",
    "        if complement in num_indices:\n",
    "            print(\"complement\", complement)\n",
    "            print(\"num_indices\", num_indices)\n",
    "            print(num_indices[complement], i)\n",
    "            return [num_indices[complement], i]\n",
    "        num_indices[num] = i\n",
    "    return None  # No such pair found\n",
    "\n",
    "\n",
    "nums = [3,2,3]\n",
    "target = 6\n",
    "result = two_sum(nums, target)\n",
    "# print(result)  \n",
    "# Output: [0, 1]"
   ]
  },
  {
   "cell_type": "code",
   "execution_count": 32,
   "metadata": {},
   "outputs": [
    {
     "name": "stdout",
     "output_type": "stream",
     "text": [
      "False\n"
     ]
    }
   ],
   "source": [
    "def is_valid_sudoku(board):\n",
    "    def is_valid(arr):\n",
    "        arr = [i for i in arr if i != '.']\n",
    "        return len(set(arr)) == len(arr)\n",
    "\n",
    "    for i in range(9):\n",
    "        if not is_valid(board[i]):\n",
    "            return False\n",
    "\n",
    "        col = [board[j][i] for j in range(9)]\n",
    "        if not is_valid(col):\n",
    "            return False\n",
    "\n",
    "    for i in range(0, 9, 3):\n",
    "        for j in range(0, 9, 3):\n",
    "            sub_box = [board[x][y] for x in range(i, i+3) for y in range(j, j+3)]\n",
    "            if not is_valid(sub_box):\n",
    "                return False\n",
    "\n",
    "    return True\n",
    "\n",
    "# Example board (represented as a list of lists)\n",
    "sudoku_board = [[\"8\",\"3\",\".\",\".\",\"7\",\".\",\".\",\".\",\".\"]\n",
    ",[\"6\",\".\",\".\",\"1\",\"9\",\"5\",\".\",\".\",\".\"]\n",
    ",[\".\",\"9\",\"8\",\".\",\".\",\".\",\".\",\"6\",\".\"]\n",
    ",[\"8\",\".\",\".\",\".\",\"6\",\".\",\".\",\".\",\"3\"]\n",
    ",[\"4\",\".\",\".\",\"8\",\".\",\"3\",\".\",\".\",\"1\"]\n",
    ",[\"7\",\".\",\".\",\".\",\"2\",\".\",\".\",\".\",\"6\"]\n",
    ",[\".\",\"6\",\".\",\".\",\".\",\".\",\"2\",\"8\",\".\"]\n",
    ",[\".\",\".\",\".\",\"4\",\"1\",\"9\",\".\",\".\",\"5\"]\n",
    ",[\".\",\".\",\".\",\".\",\"8\",\".\",\".\",\"7\",\"9\"]]\n",
    "\n",
    "result = is_valid_sudoku(sudoku_board)\n",
    "print(result)  # Output: True or False"
   ]
  },
  {
   "cell_type": "code",
   "execution_count": null,
   "metadata": {},
   "outputs": [],
   "source": []
  }
 ],
 "metadata": {
  "kernelspec": {
   "display_name": "Python 3",
   "language": "python",
   "name": "python3"
  },
  "language_info": {
   "codemirror_mode": {
    "name": "ipython",
    "version": 3
   },
   "file_extension": ".py",
   "mimetype": "text/x-python",
   "name": "python",
   "nbconvert_exporter": "python",
   "pygments_lexer": "ipython3",
   "version": "3.8.10"
  },
  "orig_nbformat": 4
 },
 "nbformat": 4,
 "nbformat_minor": 2
}
