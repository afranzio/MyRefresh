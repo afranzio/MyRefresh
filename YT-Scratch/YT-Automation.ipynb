{
 "cells": [
  {
   "cell_type": "markdown",
   "metadata": {},
   "source": [
    "#Actual Code From CodeBase - Google"
   ]
  },
  {
   "cell_type": "markdown",
   "metadata": {},
   "source": [
    "#Imports and Initial Setup"
   ]
  },
  {
   "cell_type": "code",
   "execution_count": 3,
   "metadata": {},
   "outputs": [
    {
     "name": "stderr",
     "output_type": "stream",
     "text": [
      "'apt' is not recognized as an internal or external command,\n",
      "operable program or batch file.\n",
      "'cat' is not recognized as an internal or external command,\n",
      "operable program or batch file.\n"
     ]
    }
   ],
   "source": [
    "!apt install imagemagick\n",
    "!cat /etc/ImageMagick-6/policy.xml | sed 's/none/read,write/g'> /etc/ImageMagick-6/policy.xml"
   ]
  },
  {
   "cell_type": "code",
   "execution_count": null,
   "metadata": {},
   "outputs": [],
   "source": [
    "!pip install -q pytube youtube_transcript_api moviepy"
   ]
  },
  {
   "cell_type": "code",
   "execution_count": null,
   "metadata": {},
   "outputs": [],
   "source": [
    "import requests\n",
    "import matplotlib.pyplot as plt\n",
    "import seaborn as sns\n",
    "\n",
    "from pytube import YouTube\n",
    "import moviepy\n",
    "from moviepy.editor import *\n",
    "\n",
    "from moviepy.video.tools.subtitles import SubtitlesClip\n",
    "from moviepy.video.io.VideoFileClip import VideoFileClip\n",
    "\n",
    "from youtube_transcript_api import YouTubeTranscriptApi\n",
    "from youtube_transcript_api.formatters import SRTFormatter\n",
    "\n",
    "import os\n",
    "import subprocess\n",
    "from datetime import date"
   ]
  },
  {
   "cell_type": "markdown",
   "metadata": {},
   "source": [
    "#Function definitions"
   ]
  },
  {
   "cell_type": "code",
   "execution_count": 4,
   "metadata": {},
   "outputs": [],
   "source": [
    "timedMarkerDecorations=16640\n",
    "def get_all_markers(video_id):\n",
    "    try:\n",
    "        x = requests.get(f'https://yt.lemnoslife.com/videos?part=mostReplayed&id={video_id}').json()\n",
    "        print(\"Video markers downloaded\")\n",
    "        timedMarkerDecorations = x[\"items\"][0][\"mostReplayed\"][\"timedMarkerDecorations\"][0][\"visibleTimeRangeEndMillis\"] - x[\"items\"][0][\"mostReplayed\"][\"timedMarkerDecorations\"][0][\"visibleTimeRangeStartMillis\"]\n",
    "        return x[\"items\"][0][\"mostReplayed\"][\"markers\"]\n",
    "    except:\n",
    "        print(f\"This video ({video_id}) does not contain any corresponding heat markers.\")\n",
    "        return None"
   ]
  },
  {
   "cell_type": "code",
   "execution_count": 5,
   "metadata": {},
   "outputs": [],
   "source": [
    "def get_top_k_moments(all_markers, k=10):\n",
    "    all_intensities = sorted([(marker['intensityScoreNormalized'], indx) for indx, marker in enumerate(all_markers) if indx > 4 and indx < 96], key=lambda x:-x[0])\n",
    "    return [all_markers[indx] for (intensity, indx) in all_intensities[:k]]"
   ]
  },
  {
   "cell_type": "code",
   "execution_count": 6,
   "metadata": {},
   "outputs": [],
   "source": [
    "def download_video(video_id, file_path):\n",
    "    link = f\"https://www.youtube.com/watch?v={video_id}\"\n",
    "    yt = YouTube(link)\n",
    "    yt = yt.streams.get_highest_resolution()\n",
    "    try:\n",
    "        yt.download(file_path)\n",
    "    except:\n",
    "        print(\"Error has occured video can not be downloaded\")\n",
    "    print(f\"Download is completed successfully for {video_id}\")"
   ]
  },
  {
   "cell_type": "code",
   "execution_count": 7,
   "metadata": {},
   "outputs": [],
   "source": [
    "def download_mp3(video_id, file_path):\n",
    "    link = f\"https://www.youtube.com/watch?v={video_id}\"\n",
    "    yt = YouTube(link)\n",
    "    yt = yt.streams.get_highest_resolution()\n",
    "    try:\n",
    "        yt.download(file_path)\n",
    "\n",
    "        mp4_file_path = os.path.join(file_path, os.listdir(file_path)[0])\n",
    "\n",
    "        subprocess.run([\n",
    "            'ffmpeg',\n",
    "            '-i', mp4_file_path,\n",
    "            os.path.join(file_path, \"bgm.mp3\")\n",
    "        ])\n",
    "    except:\n",
    "        print(\"Error has occured video can not be downloaded\")\n",
    "\n",
    "    print(f\"Download is completed successfully for {video_id}\")"
   ]
  },
  {
   "cell_type": "code",
   "execution_count": 8,
   "metadata": {},
   "outputs": [],
   "source": [
    "def get_transcript(video_id):\n",
    "    try:\n",
    "        transcript = YouTubeTranscriptApi.get_transcript(video_id)\n",
    "        formatter = SRTFormatter()\n",
    "        srt_formatted = formatter.format_transcript(transcript)\n",
    "\n",
    "        with open('main_video_captions.srt', 'w', encoding='utf-8') as f:\n",
    "            f.write(srt_formatted)\n",
    "\n",
    "        print(\"Transcript written to main_video_captions.srt\")\n",
    "    except:\n",
    "        print(\"Transcript not found\")"
   ]
  },
  {
   "cell_type": "code",
   "execution_count": 9,
   "metadata": {},
   "outputs": [],
   "source": [
    "def add_subtitles_to_video(video_path):\n",
    "    generator = lambda txt: TextClip(txt, font='Georgia-Regular', fontsize=40, color='white', bg_color='black')\n",
    "    sub = SubtitlesClip(\"/content/main_video_captions.srt\", generator)\n",
    "    print(video_path)\n",
    "    video = VideoFileClip(video_path)\n",
    "    return CompositeVideoClip([video, sub.set_pos(('center', 'bottom'))])"
   ]
  },
  {
   "cell_type": "code",
   "execution_count": 10,
   "metadata": {},
   "outputs": [],
   "source": [
    "def download_videos(videos):\n",
    "    file_num = 1\n",
    "    for video in videos:\n",
    "        video.write_videofile(f\"out_video_{file_num}.mp4\",\n",
    "                            codec='libx264',\n",
    "                            audio_codec='aac',\n",
    "                            temp_audiofile='temp-audio.m4a',\n",
    "                            remove_temp=True\n",
    "                            )\n",
    "        print(f\"Saved file out_video_{file_num}\")\n",
    "        file_num += 1"
   ]
  },
  {
   "cell_type": "markdown",
   "metadata": {},
   "source": [
    "#Main Section"
   ]
  },
  {
   "cell_type": "code",
   "execution_count": null,
   "metadata": {},
   "outputs": [],
   "source": [
    "#@title Main Run\n",
    "main_video_id = \"zav8i32PCio\" #@param {type:\"string\"}\n",
    "below_video_id = \"Pt5_GSKIWQM\" #@param {type:\"string\"}\n",
    "bgm_music_video_id = \"WE8TinxNPb0\" #@param {type:\"string\"}\n",
    "k = 2 #@param {type:\"integer\"}\n",
    "\n",
    "all_markers = get_all_markers(main_video_id)\n",
    "top_k_markers = get_top_k_moments(all_markers, k=k)\n",
    "\n",
    "todayDate = date.today()\n",
    "\n",
    "main_video_file_path = f'/content/main_video/{todayDate}'\n",
    "below_video_file_path = f'/content/below_video/{todayDate}'\n",
    "bgm_mp3_file_path = f'/content/bgm_music/{todayDate}'\n",
    "\n",
    "try:  \n",
    "  os.mkdir(main_video_file_path)\n",
    "  os.mkdir(below_video_file_path)\n",
    "  os.mkdir(bgm_mp3_file_path)\n",
    "except OSError as error:  \n",
    "  print(error)\n",
    "\n",
    "download_video(main_video_id, main_video_file_path)\n",
    "download_video(below_video_id, below_video_file_path)\n",
    "download_mp3(bgm_music_video_id, bgm_mp3_file_path)\n",
    "\n",
    "main_video_file_path = os.path.join(main_video_file_path, os.listdir(main_video_file_path)[0])\n",
    "below_video_file_path = os.path.join(below_video_file_path, os.listdir(below_video_file_path)[0])\n",
    "bgm_mp3_file_path = os.path.join(bgm_mp3_file_path, os.listdir(bgm_mp3_file_path)[0])\n",
    "\n",
    "get_transcript(main_video_id)\n",
    "\n",
    "main_video_with_subtitles = add_subtitles_to_video(main_video_file_path)\n",
    "\n",
    "videos = []\n",
    "\n",
    "for marker in top_k_markers:\n",
    "    start_time = marker[\"startMillis\"]\n",
    "    duration = int(timedMarkerDecorations)\n",
    "\n",
    "    if (duration / 1e3) > 60:\n",
    "        duration = 59 * 1e3\n",
    "\n",
    "    below_video = VideoFileClip(below_video_file_path).subclip(10, 10 + duration/1e3).without_audio()\n",
    "    video = main_video_with_subtitles.subclip((start_time)/1e3,(start_time + duration)/1e3)\n",
    "\n",
    "    combined = clips_array([[video], [below_video]])\n",
    "    combined = combined.resize((1080,1920))\n",
    "\n",
    "    audio_background = AudioFileClip(bgm_mp3_file_path).subclip(10, 10+duration/1e3).fx(moviepy.audio.fx.all.volumex, 0.9)\n",
    "    final_audio = CompositeAudioClip([combined.audio, audio_background])\n",
    "    final_clip = combined.set_audio(final_audio)\n",
    "\n",
    "    videos.append(final_clip)\n",
    "\n",
    "download_videos(videos)"
   ]
  }
 ],
 "metadata": {
  "kernelspec": {
   "display_name": "Python 3",
   "language": "python",
   "name": "python3"
  },
  "language_info": {
   "codemirror_mode": {
    "name": "ipython",
    "version": 3
   },
   "file_extension": ".py",
   "mimetype": "text/x-python",
   "name": "python",
   "nbconvert_exporter": "python",
   "pygments_lexer": "ipython3",
   "version": "3.8.10"
  },
  "orig_nbformat": 4
 },
 "nbformat": 4,
 "nbformat_minor": 2
}
